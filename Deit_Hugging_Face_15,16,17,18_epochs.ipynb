{
  "nbformat": 4,
  "nbformat_minor": 0,
  "metadata": {
    "colab": {
      "provenance": [],
      "machine_shape": "hm",
      "gpuType": "T4",
      "authorship_tag": "ABX9TyPlwkRBQWWbYxODOogGQmQe",
      "include_colab_link": true
    },
    "kernelspec": {
      "name": "python3",
      "display_name": "Python 3"
    },
    "language_info": {
      "name": "python"
    },
    "widgets": {
      "application/vnd.jupyter.widget-state+json": {
        "9a1f66da6d134940ab28853d535b7498": {
          "model_module": "@jupyter-widgets/controls",
          "model_name": "HBoxModel",
          "model_module_version": "1.5.0",
          "state": {
            "_dom_classes": [],
            "_model_module": "@jupyter-widgets/controls",
            "_model_module_version": "1.5.0",
            "_model_name": "HBoxModel",
            "_view_count": null,
            "_view_module": "@jupyter-widgets/controls",
            "_view_module_version": "1.5.0",
            "_view_name": "HBoxView",
            "box_style": "",
            "children": [
              "IPY_MODEL_7bd703aada0c4bd1ae1ae09f6bac3ff1",
              "IPY_MODEL_9bbd0ea1a3f54c8b97be77ad62ff8578",
              "IPY_MODEL_07ba2eebc897456083e1fa8c3e4b9116"
            ],
            "layout": "IPY_MODEL_dd58533f5e2d4c2aa726fd168abddf95"
          }
        },
        "7bd703aada0c4bd1ae1ae09f6bac3ff1": {
          "model_module": "@jupyter-widgets/controls",
          "model_name": "HTMLModel",
          "model_module_version": "1.5.0",
          "state": {
            "_dom_classes": [],
            "_model_module": "@jupyter-widgets/controls",
            "_model_module_version": "1.5.0",
            "_model_name": "HTMLModel",
            "_view_count": null,
            "_view_module": "@jupyter-widgets/controls",
            "_view_module_version": "1.5.0",
            "_view_name": "HTMLView",
            "description": "",
            "description_tooltip": null,
            "layout": "IPY_MODEL_74fb9fb12eb44680a19d3969f993569b",
            "placeholder": "​",
            "style": "IPY_MODEL_d6c0cd48b64c4321b2d8c661a6e63e70",
            "value": "config.json: 100%"
          }
        },
        "9bbd0ea1a3f54c8b97be77ad62ff8578": {
          "model_module": "@jupyter-widgets/controls",
          "model_name": "FloatProgressModel",
          "model_module_version": "1.5.0",
          "state": {
            "_dom_classes": [],
            "_model_module": "@jupyter-widgets/controls",
            "_model_module_version": "1.5.0",
            "_model_name": "FloatProgressModel",
            "_view_count": null,
            "_view_module": "@jupyter-widgets/controls",
            "_view_module_version": "1.5.0",
            "_view_name": "ProgressView",
            "bar_style": "success",
            "description": "",
            "description_tooltip": null,
            "layout": "IPY_MODEL_2898ff10f22e4ffeb1dfdf423827d1e8",
            "max": 69607,
            "min": 0,
            "orientation": "horizontal",
            "style": "IPY_MODEL_b1b4cf068ad34e4c84d378083cbbdd64",
            "value": 69607
          }
        },
        "07ba2eebc897456083e1fa8c3e4b9116": {
          "model_module": "@jupyter-widgets/controls",
          "model_name": "HTMLModel",
          "model_module_version": "1.5.0",
          "state": {
            "_dom_classes": [],
            "_model_module": "@jupyter-widgets/controls",
            "_model_module_version": "1.5.0",
            "_model_name": "HTMLModel",
            "_view_count": null,
            "_view_module": "@jupyter-widgets/controls",
            "_view_module_version": "1.5.0",
            "_view_name": "HTMLView",
            "description": "",
            "description_tooltip": null,
            "layout": "IPY_MODEL_fd809e30daeb4f6a8760dc842237f524",
            "placeholder": "​",
            "style": "IPY_MODEL_163f8e0d773a4142aef531950d0427aa",
            "value": " 69.6k/69.6k [00:00&lt;00:00, 5.31MB/s]"
          }
        },
        "dd58533f5e2d4c2aa726fd168abddf95": {
          "model_module": "@jupyter-widgets/base",
          "model_name": "LayoutModel",
          "model_module_version": "1.2.0",
          "state": {
            "_model_module": "@jupyter-widgets/base",
            "_model_module_version": "1.2.0",
            "_model_name": "LayoutModel",
            "_view_count": null,
            "_view_module": "@jupyter-widgets/base",
            "_view_module_version": "1.2.0",
            "_view_name": "LayoutView",
            "align_content": null,
            "align_items": null,
            "align_self": null,
            "border": null,
            "bottom": null,
            "display": null,
            "flex": null,
            "flex_flow": null,
            "grid_area": null,
            "grid_auto_columns": null,
            "grid_auto_flow": null,
            "grid_auto_rows": null,
            "grid_column": null,
            "grid_gap": null,
            "grid_row": null,
            "grid_template_areas": null,
            "grid_template_columns": null,
            "grid_template_rows": null,
            "height": null,
            "justify_content": null,
            "justify_items": null,
            "left": null,
            "margin": null,
            "max_height": null,
            "max_width": null,
            "min_height": null,
            "min_width": null,
            "object_fit": null,
            "object_position": null,
            "order": null,
            "overflow": null,
            "overflow_x": null,
            "overflow_y": null,
            "padding": null,
            "right": null,
            "top": null,
            "visibility": null,
            "width": null
          }
        },
        "74fb9fb12eb44680a19d3969f993569b": {
          "model_module": "@jupyter-widgets/base",
          "model_name": "LayoutModel",
          "model_module_version": "1.2.0",
          "state": {
            "_model_module": "@jupyter-widgets/base",
            "_model_module_version": "1.2.0",
            "_model_name": "LayoutModel",
            "_view_count": null,
            "_view_module": "@jupyter-widgets/base",
            "_view_module_version": "1.2.0",
            "_view_name": "LayoutView",
            "align_content": null,
            "align_items": null,
            "align_self": null,
            "border": null,
            "bottom": null,
            "display": null,
            "flex": null,
            "flex_flow": null,
            "grid_area": null,
            "grid_auto_columns": null,
            "grid_auto_flow": null,
            "grid_auto_rows": null,
            "grid_column": null,
            "grid_gap": null,
            "grid_row": null,
            "grid_template_areas": null,
            "grid_template_columns": null,
            "grid_template_rows": null,
            "height": null,
            "justify_content": null,
            "justify_items": null,
            "left": null,
            "margin": null,
            "max_height": null,
            "max_width": null,
            "min_height": null,
            "min_width": null,
            "object_fit": null,
            "object_position": null,
            "order": null,
            "overflow": null,
            "overflow_x": null,
            "overflow_y": null,
            "padding": null,
            "right": null,
            "top": null,
            "visibility": null,
            "width": null
          }
        },
        "d6c0cd48b64c4321b2d8c661a6e63e70": {
          "model_module": "@jupyter-widgets/controls",
          "model_name": "DescriptionStyleModel",
          "model_module_version": "1.5.0",
          "state": {
            "_model_module": "@jupyter-widgets/controls",
            "_model_module_version": "1.5.0",
            "_model_name": "DescriptionStyleModel",
            "_view_count": null,
            "_view_module": "@jupyter-widgets/base",
            "_view_module_version": "1.2.0",
            "_view_name": "StyleView",
            "description_width": ""
          }
        },
        "2898ff10f22e4ffeb1dfdf423827d1e8": {
          "model_module": "@jupyter-widgets/base",
          "model_name": "LayoutModel",
          "model_module_version": "1.2.0",
          "state": {
            "_model_module": "@jupyter-widgets/base",
            "_model_module_version": "1.2.0",
            "_model_name": "LayoutModel",
            "_view_count": null,
            "_view_module": "@jupyter-widgets/base",
            "_view_module_version": "1.2.0",
            "_view_name": "LayoutView",
            "align_content": null,
            "align_items": null,
            "align_self": null,
            "border": null,
            "bottom": null,
            "display": null,
            "flex": null,
            "flex_flow": null,
            "grid_area": null,
            "grid_auto_columns": null,
            "grid_auto_flow": null,
            "grid_auto_rows": null,
            "grid_column": null,
            "grid_gap": null,
            "grid_row": null,
            "grid_template_areas": null,
            "grid_template_columns": null,
            "grid_template_rows": null,
            "height": null,
            "justify_content": null,
            "justify_items": null,
            "left": null,
            "margin": null,
            "max_height": null,
            "max_width": null,
            "min_height": null,
            "min_width": null,
            "object_fit": null,
            "object_position": null,
            "order": null,
            "overflow": null,
            "overflow_x": null,
            "overflow_y": null,
            "padding": null,
            "right": null,
            "top": null,
            "visibility": null,
            "width": null
          }
        },
        "b1b4cf068ad34e4c84d378083cbbdd64": {
          "model_module": "@jupyter-widgets/controls",
          "model_name": "ProgressStyleModel",
          "model_module_version": "1.5.0",
          "state": {
            "_model_module": "@jupyter-widgets/controls",
            "_model_module_version": "1.5.0",
            "_model_name": "ProgressStyleModel",
            "_view_count": null,
            "_view_module": "@jupyter-widgets/base",
            "_view_module_version": "1.2.0",
            "_view_name": "StyleView",
            "bar_color": null,
            "description_width": ""
          }
        },
        "fd809e30daeb4f6a8760dc842237f524": {
          "model_module": "@jupyter-widgets/base",
          "model_name": "LayoutModel",
          "model_module_version": "1.2.0",
          "state": {
            "_model_module": "@jupyter-widgets/base",
            "_model_module_version": "1.2.0",
            "_model_name": "LayoutModel",
            "_view_count": null,
            "_view_module": "@jupyter-widgets/base",
            "_view_module_version": "1.2.0",
            "_view_name": "LayoutView",
            "align_content": null,
            "align_items": null,
            "align_self": null,
            "border": null,
            "bottom": null,
            "display": null,
            "flex": null,
            "flex_flow": null,
            "grid_area": null,
            "grid_auto_columns": null,
            "grid_auto_flow": null,
            "grid_auto_rows": null,
            "grid_column": null,
            "grid_gap": null,
            "grid_row": null,
            "grid_template_areas": null,
            "grid_template_columns": null,
            "grid_template_rows": null,
            "height": null,
            "justify_content": null,
            "justify_items": null,
            "left": null,
            "margin": null,
            "max_height": null,
            "max_width": null,
            "min_height": null,
            "min_width": null,
            "object_fit": null,
            "object_position": null,
            "order": null,
            "overflow": null,
            "overflow_x": null,
            "overflow_y": null,
            "padding": null,
            "right": null,
            "top": null,
            "visibility": null,
            "width": null
          }
        },
        "163f8e0d773a4142aef531950d0427aa": {
          "model_module": "@jupyter-widgets/controls",
          "model_name": "DescriptionStyleModel",
          "model_module_version": "1.5.0",
          "state": {
            "_model_module": "@jupyter-widgets/controls",
            "_model_module_version": "1.5.0",
            "_model_name": "DescriptionStyleModel",
            "_view_count": null,
            "_view_module": "@jupyter-widgets/base",
            "_view_module_version": "1.2.0",
            "_view_name": "StyleView",
            "description_width": ""
          }
        },
        "1ed0f9ef9cec4905ba8294015d80df73": {
          "model_module": "@jupyter-widgets/controls",
          "model_name": "HBoxModel",
          "model_module_version": "1.5.0",
          "state": {
            "_dom_classes": [],
            "_model_module": "@jupyter-widgets/controls",
            "_model_module_version": "1.5.0",
            "_model_name": "HBoxModel",
            "_view_count": null,
            "_view_module": "@jupyter-widgets/controls",
            "_view_module_version": "1.5.0",
            "_view_name": "HBoxView",
            "box_style": "",
            "children": [
              "IPY_MODEL_4d52d13e902f4bd1954950df4d1704ad",
              "IPY_MODEL_2c90c26816c04babb274c6ca45728720",
              "IPY_MODEL_6e6e273687f841b69a254881e8b7f8d2"
            ],
            "layout": "IPY_MODEL_a5e40f4c06774dafbe3154216795677c"
          }
        },
        "4d52d13e902f4bd1954950df4d1704ad": {
          "model_module": "@jupyter-widgets/controls",
          "model_name": "HTMLModel",
          "model_module_version": "1.5.0",
          "state": {
            "_dom_classes": [],
            "_model_module": "@jupyter-widgets/controls",
            "_model_module_version": "1.5.0",
            "_model_name": "HTMLModel",
            "_view_count": null,
            "_view_module": "@jupyter-widgets/controls",
            "_view_module_version": "1.5.0",
            "_view_name": "HTMLView",
            "description": "",
            "description_tooltip": null,
            "layout": "IPY_MODEL_52b81d67135c43d89cf564b61dd35b2e",
            "placeholder": "​",
            "style": "IPY_MODEL_36a92eb50bb842f8bd7a6de1d9823716",
            "value": "pytorch_model.bin: 100%"
          }
        },
        "2c90c26816c04babb274c6ca45728720": {
          "model_module": "@jupyter-widgets/controls",
          "model_name": "FloatProgressModel",
          "model_module_version": "1.5.0",
          "state": {
            "_dom_classes": [],
            "_model_module": "@jupyter-widgets/controls",
            "_model_module_version": "1.5.0",
            "_model_name": "FloatProgressModel",
            "_view_count": null,
            "_view_module": "@jupyter-widgets/controls",
            "_view_module_version": "1.5.0",
            "_view_name": "ProgressView",
            "bar_style": "success",
            "description": "",
            "description_tooltip": null,
            "layout": "IPY_MODEL_41d1ffe64d344f6db4cd9d072bb72538",
            "max": 349435207,
            "min": 0,
            "orientation": "horizontal",
            "style": "IPY_MODEL_9fc8e595e5804ea9add2e4a59936434d",
            "value": 349435207
          }
        },
        "6e6e273687f841b69a254881e8b7f8d2": {
          "model_module": "@jupyter-widgets/controls",
          "model_name": "HTMLModel",
          "model_module_version": "1.5.0",
          "state": {
            "_dom_classes": [],
            "_model_module": "@jupyter-widgets/controls",
            "_model_module_version": "1.5.0",
            "_model_name": "HTMLModel",
            "_view_count": null,
            "_view_module": "@jupyter-widgets/controls",
            "_view_module_version": "1.5.0",
            "_view_name": "HTMLView",
            "description": "",
            "description_tooltip": null,
            "layout": "IPY_MODEL_730a86d2f511476d83e6c9dadee25990",
            "placeholder": "​",
            "style": "IPY_MODEL_102c63ea171d4564b52bfafb7fc85f11",
            "value": " 349M/349M [00:19&lt;00:00, 20.4MB/s]"
          }
        },
        "a5e40f4c06774dafbe3154216795677c": {
          "model_module": "@jupyter-widgets/base",
          "model_name": "LayoutModel",
          "model_module_version": "1.2.0",
          "state": {
            "_model_module": "@jupyter-widgets/base",
            "_model_module_version": "1.2.0",
            "_model_name": "LayoutModel",
            "_view_count": null,
            "_view_module": "@jupyter-widgets/base",
            "_view_module_version": "1.2.0",
            "_view_name": "LayoutView",
            "align_content": null,
            "align_items": null,
            "align_self": null,
            "border": null,
            "bottom": null,
            "display": null,
            "flex": null,
            "flex_flow": null,
            "grid_area": null,
            "grid_auto_columns": null,
            "grid_auto_flow": null,
            "grid_auto_rows": null,
            "grid_column": null,
            "grid_gap": null,
            "grid_row": null,
            "grid_template_areas": null,
            "grid_template_columns": null,
            "grid_template_rows": null,
            "height": null,
            "justify_content": null,
            "justify_items": null,
            "left": null,
            "margin": null,
            "max_height": null,
            "max_width": null,
            "min_height": null,
            "min_width": null,
            "object_fit": null,
            "object_position": null,
            "order": null,
            "overflow": null,
            "overflow_x": null,
            "overflow_y": null,
            "padding": null,
            "right": null,
            "top": null,
            "visibility": null,
            "width": null
          }
        },
        "52b81d67135c43d89cf564b61dd35b2e": {
          "model_module": "@jupyter-widgets/base",
          "model_name": "LayoutModel",
          "model_module_version": "1.2.0",
          "state": {
            "_model_module": "@jupyter-widgets/base",
            "_model_module_version": "1.2.0",
            "_model_name": "LayoutModel",
            "_view_count": null,
            "_view_module": "@jupyter-widgets/base",
            "_view_module_version": "1.2.0",
            "_view_name": "LayoutView",
            "align_content": null,
            "align_items": null,
            "align_self": null,
            "border": null,
            "bottom": null,
            "display": null,
            "flex": null,
            "flex_flow": null,
            "grid_area": null,
            "grid_auto_columns": null,
            "grid_auto_flow": null,
            "grid_auto_rows": null,
            "grid_column": null,
            "grid_gap": null,
            "grid_row": null,
            "grid_template_areas": null,
            "grid_template_columns": null,
            "grid_template_rows": null,
            "height": null,
            "justify_content": null,
            "justify_items": null,
            "left": null,
            "margin": null,
            "max_height": null,
            "max_width": null,
            "min_height": null,
            "min_width": null,
            "object_fit": null,
            "object_position": null,
            "order": null,
            "overflow": null,
            "overflow_x": null,
            "overflow_y": null,
            "padding": null,
            "right": null,
            "top": null,
            "visibility": null,
            "width": null
          }
        },
        "36a92eb50bb842f8bd7a6de1d9823716": {
          "model_module": "@jupyter-widgets/controls",
          "model_name": "DescriptionStyleModel",
          "model_module_version": "1.5.0",
          "state": {
            "_model_module": "@jupyter-widgets/controls",
            "_model_module_version": "1.5.0",
            "_model_name": "DescriptionStyleModel",
            "_view_count": null,
            "_view_module": "@jupyter-widgets/base",
            "_view_module_version": "1.2.0",
            "_view_name": "StyleView",
            "description_width": ""
          }
        },
        "41d1ffe64d344f6db4cd9d072bb72538": {
          "model_module": "@jupyter-widgets/base",
          "model_name": "LayoutModel",
          "model_module_version": "1.2.0",
          "state": {
            "_model_module": "@jupyter-widgets/base",
            "_model_module_version": "1.2.0",
            "_model_name": "LayoutModel",
            "_view_count": null,
            "_view_module": "@jupyter-widgets/base",
            "_view_module_version": "1.2.0",
            "_view_name": "LayoutView",
            "align_content": null,
            "align_items": null,
            "align_self": null,
            "border": null,
            "bottom": null,
            "display": null,
            "flex": null,
            "flex_flow": null,
            "grid_area": null,
            "grid_auto_columns": null,
            "grid_auto_flow": null,
            "grid_auto_rows": null,
            "grid_column": null,
            "grid_gap": null,
            "grid_row": null,
            "grid_template_areas": null,
            "grid_template_columns": null,
            "grid_template_rows": null,
            "height": null,
            "justify_content": null,
            "justify_items": null,
            "left": null,
            "margin": null,
            "max_height": null,
            "max_width": null,
            "min_height": null,
            "min_width": null,
            "object_fit": null,
            "object_position": null,
            "order": null,
            "overflow": null,
            "overflow_x": null,
            "overflow_y": null,
            "padding": null,
            "right": null,
            "top": null,
            "visibility": null,
            "width": null
          }
        },
        "9fc8e595e5804ea9add2e4a59936434d": {
          "model_module": "@jupyter-widgets/controls",
          "model_name": "ProgressStyleModel",
          "model_module_version": "1.5.0",
          "state": {
            "_model_module": "@jupyter-widgets/controls",
            "_model_module_version": "1.5.0",
            "_model_name": "ProgressStyleModel",
            "_view_count": null,
            "_view_module": "@jupyter-widgets/base",
            "_view_module_version": "1.2.0",
            "_view_name": "StyleView",
            "bar_color": null,
            "description_width": ""
          }
        },
        "730a86d2f511476d83e6c9dadee25990": {
          "model_module": "@jupyter-widgets/base",
          "model_name": "LayoutModel",
          "model_module_version": "1.2.0",
          "state": {
            "_model_module": "@jupyter-widgets/base",
            "_model_module_version": "1.2.0",
            "_model_name": "LayoutModel",
            "_view_count": null,
            "_view_module": "@jupyter-widgets/base",
            "_view_module_version": "1.2.0",
            "_view_name": "LayoutView",
            "align_content": null,
            "align_items": null,
            "align_self": null,
            "border": null,
            "bottom": null,
            "display": null,
            "flex": null,
            "flex_flow": null,
            "grid_area": null,
            "grid_auto_columns": null,
            "grid_auto_flow": null,
            "grid_auto_rows": null,
            "grid_column": null,
            "grid_gap": null,
            "grid_row": null,
            "grid_template_areas": null,
            "grid_template_columns": null,
            "grid_template_rows": null,
            "height": null,
            "justify_content": null,
            "justify_items": null,
            "left": null,
            "margin": null,
            "max_height": null,
            "max_width": null,
            "min_height": null,
            "min_width": null,
            "object_fit": null,
            "object_position": null,
            "order": null,
            "overflow": null,
            "overflow_x": null,
            "overflow_y": null,
            "padding": null,
            "right": null,
            "top": null,
            "visibility": null,
            "width": null
          }
        },
        "102c63ea171d4564b52bfafb7fc85f11": {
          "model_module": "@jupyter-widgets/controls",
          "model_name": "DescriptionStyleModel",
          "model_module_version": "1.5.0",
          "state": {
            "_model_module": "@jupyter-widgets/controls",
            "_model_module_version": "1.5.0",
            "_model_name": "DescriptionStyleModel",
            "_view_count": null,
            "_view_module": "@jupyter-widgets/base",
            "_view_module_version": "1.2.0",
            "_view_name": "StyleView",
            "description_width": ""
          }
        }
      }
    },
    "accelerator": "GPU"
  },
  "cells": [
    {
      "cell_type": "markdown",
      "metadata": {
        "id": "view-in-github",
        "colab_type": "text"
      },
      "source": [
        "<a href=\"https://colab.research.google.com/github/Yoon-Joon-soo/Kobert_for_ai/blob/master/Deit_Hugging_Face_15%2C16%2C17%2C18_epochs.ipynb\" target=\"_parent\"><img src=\"https://colab.research.google.com/assets/colab-badge.svg\" alt=\"Open In Colab\"/></a>"
      ]
    },
    {
      "cell_type": "code",
      "execution_count": 1,
      "metadata": {
        "colab": {
          "base_uri": "https://localhost:8080/"
        },
        "id": "eLiSlKs_9HIO",
        "outputId": "86b84374-2161-465b-ce77-b2a74725ac4e"
      },
      "outputs": [
        {
          "output_type": "stream",
          "name": "stdout",
          "text": [
            "Mounted at /content/drive\n"
          ]
        }
      ],
      "source": [
        "from google.colab import drive\n",
        "drive.mount('/content/drive')"
      ]
    },
    {
      "cell_type": "code",
      "source": [
        "!pip install --upgrade transformers"
      ],
      "metadata": {
        "colab": {
          "base_uri": "https://localhost:8080/"
        },
        "id": "1qIaPl_N9MHW",
        "outputId": "541e44e7-c0f8-44a7-ae4d-43df90f04b44"
      },
      "execution_count": 2,
      "outputs": [
        {
          "output_type": "stream",
          "name": "stdout",
          "text": [
            "Requirement already satisfied: transformers in /usr/local/lib/python3.10/dist-packages (4.35.2)\n",
            "Collecting transformers\n",
            "  Downloading transformers-4.36.1-py3-none-any.whl (8.3 MB)\n",
            "\u001b[2K     \u001b[90m━━━━━━━━━━━━━━━━━━━━━━━━━━━━━━━━━━━━━━━━\u001b[0m \u001b[32m8.3/8.3 MB\u001b[0m \u001b[31m18.2 MB/s\u001b[0m eta \u001b[36m0:00:00\u001b[0m\n",
            "\u001b[?25hRequirement already satisfied: filelock in /usr/local/lib/python3.10/dist-packages (from transformers) (3.13.1)\n",
            "Requirement already satisfied: huggingface-hub<1.0,>=0.19.3 in /usr/local/lib/python3.10/dist-packages (from transformers) (0.19.4)\n",
            "Requirement already satisfied: numpy>=1.17 in /usr/local/lib/python3.10/dist-packages (from transformers) (1.23.5)\n",
            "Requirement already satisfied: packaging>=20.0 in /usr/local/lib/python3.10/dist-packages (from transformers) (23.2)\n",
            "Requirement already satisfied: pyyaml>=5.1 in /usr/local/lib/python3.10/dist-packages (from transformers) (6.0.1)\n",
            "Requirement already satisfied: regex!=2019.12.17 in /usr/local/lib/python3.10/dist-packages (from transformers) (2023.6.3)\n",
            "Requirement already satisfied: requests in /usr/local/lib/python3.10/dist-packages (from transformers) (2.31.0)\n",
            "Requirement already satisfied: tokenizers<0.19,>=0.14 in /usr/local/lib/python3.10/dist-packages (from transformers) (0.15.0)\n",
            "Requirement already satisfied: safetensors>=0.3.1 in /usr/local/lib/python3.10/dist-packages (from transformers) (0.4.1)\n",
            "Requirement already satisfied: tqdm>=4.27 in /usr/local/lib/python3.10/dist-packages (from transformers) (4.66.1)\n",
            "Requirement already satisfied: fsspec>=2023.5.0 in /usr/local/lib/python3.10/dist-packages (from huggingface-hub<1.0,>=0.19.3->transformers) (2023.6.0)\n",
            "Requirement already satisfied: typing-extensions>=3.7.4.3 in /usr/local/lib/python3.10/dist-packages (from huggingface-hub<1.0,>=0.19.3->transformers) (4.5.0)\n",
            "Requirement already satisfied: charset-normalizer<4,>=2 in /usr/local/lib/python3.10/dist-packages (from requests->transformers) (3.3.2)\n",
            "Requirement already satisfied: idna<4,>=2.5 in /usr/local/lib/python3.10/dist-packages (from requests->transformers) (3.6)\n",
            "Requirement already satisfied: urllib3<3,>=1.21.1 in /usr/local/lib/python3.10/dist-packages (from requests->transformers) (2.0.7)\n",
            "Requirement already satisfied: certifi>=2017.4.17 in /usr/local/lib/python3.10/dist-packages (from requests->transformers) (2023.11.17)\n",
            "Installing collected packages: transformers\n",
            "  Attempting uninstall: transformers\n",
            "    Found existing installation: transformers 4.35.2\n",
            "    Uninstalling transformers-4.35.2:\n",
            "      Successfully uninstalled transformers-4.35.2\n",
            "Successfully installed transformers-4.36.1\n"
          ]
        }
      ]
    },
    {
      "cell_type": "code",
      "source": [
        "!huggingface-cli login"
      ],
      "metadata": {
        "colab": {
          "base_uri": "https://localhost:8080/"
        },
        "id": "GAAJokXq9NSc",
        "outputId": "9f676054-3bb6-4282-8785-fdc2ab525615"
      },
      "execution_count": 3,
      "outputs": [
        {
          "output_type": "stream",
          "name": "stdout",
          "text": [
            "\n",
            "    _|    _|  _|    _|    _|_|_|    _|_|_|  _|_|_|  _|      _|    _|_|_|      _|_|_|_|    _|_|      _|_|_|  _|_|_|_|\n",
            "    _|    _|  _|    _|  _|        _|          _|    _|_|    _|  _|            _|        _|    _|  _|        _|\n",
            "    _|_|_|_|  _|    _|  _|  _|_|  _|  _|_|    _|    _|  _|  _|  _|  _|_|      _|_|_|    _|_|_|_|  _|        _|_|_|\n",
            "    _|    _|  _|    _|  _|    _|  _|    _|    _|    _|    _|_|  _|    _|      _|        _|    _|  _|        _|\n",
            "    _|    _|    _|_|      _|_|_|    _|_|_|  _|_|_|  _|      _|    _|_|_|      _|        _|    _|    _|_|_|  _|_|_|_|\n",
            "\n",
            "    To login, `huggingface_hub` requires a token generated from https://huggingface.co/settings/tokens .\n",
            "Token: \n",
            "Add token as git credential? (Y/n) Y\n",
            "Token is valid (permission: read).\n",
            "\u001b[1m\u001b[31mCannot authenticate through git-credential as no helper is defined on your machine.\n",
            "You might have to re-authenticate when pushing to the Hugging Face Hub.\n",
            "Run the following command in your terminal in case you want to set the 'store' credential helper as default.\n",
            "\n",
            "git config --global credential.helper store\n",
            "\n",
            "Read https://git-scm.com/book/en/v2/Git-Tools-Credential-Storage for more details.\u001b[0m\n",
            "Token has not been saved to git credential helper.\n",
            "Your token has been saved to /root/.cache/huggingface/token\n",
            "Login successful\n"
          ]
        }
      ]
    },
    {
      "cell_type": "code",
      "source": [
        "!pip install transformers torch"
      ],
      "metadata": {
        "colab": {
          "base_uri": "https://localhost:8080/"
        },
        "id": "oDyOS0bW9S08",
        "outputId": "75c593b4-52a0-4aa1-e963-8479b8d96957"
      },
      "execution_count": 4,
      "outputs": [
        {
          "output_type": "stream",
          "name": "stdout",
          "text": [
            "Requirement already satisfied: transformers in /usr/local/lib/python3.10/dist-packages (4.36.1)\n",
            "Requirement already satisfied: torch in /usr/local/lib/python3.10/dist-packages (2.1.0+cu121)\n",
            "Requirement already satisfied: filelock in /usr/local/lib/python3.10/dist-packages (from transformers) (3.13.1)\n",
            "Requirement already satisfied: huggingface-hub<1.0,>=0.19.3 in /usr/local/lib/python3.10/dist-packages (from transformers) (0.19.4)\n",
            "Requirement already satisfied: numpy>=1.17 in /usr/local/lib/python3.10/dist-packages (from transformers) (1.23.5)\n",
            "Requirement already satisfied: packaging>=20.0 in /usr/local/lib/python3.10/dist-packages (from transformers) (23.2)\n",
            "Requirement already satisfied: pyyaml>=5.1 in /usr/local/lib/python3.10/dist-packages (from transformers) (6.0.1)\n",
            "Requirement already satisfied: regex!=2019.12.17 in /usr/local/lib/python3.10/dist-packages (from transformers) (2023.6.3)\n",
            "Requirement already satisfied: requests in /usr/local/lib/python3.10/dist-packages (from transformers) (2.31.0)\n",
            "Requirement already satisfied: tokenizers<0.19,>=0.14 in /usr/local/lib/python3.10/dist-packages (from transformers) (0.15.0)\n",
            "Requirement already satisfied: safetensors>=0.3.1 in /usr/local/lib/python3.10/dist-packages (from transformers) (0.4.1)\n",
            "Requirement already satisfied: tqdm>=4.27 in /usr/local/lib/python3.10/dist-packages (from transformers) (4.66.1)\n",
            "Requirement already satisfied: typing-extensions in /usr/local/lib/python3.10/dist-packages (from torch) (4.5.0)\n",
            "Requirement already satisfied: sympy in /usr/local/lib/python3.10/dist-packages (from torch) (1.12)\n",
            "Requirement already satisfied: networkx in /usr/local/lib/python3.10/dist-packages (from torch) (3.2.1)\n",
            "Requirement already satisfied: jinja2 in /usr/local/lib/python3.10/dist-packages (from torch) (3.1.2)\n",
            "Requirement already satisfied: fsspec in /usr/local/lib/python3.10/dist-packages (from torch) (2023.6.0)\n",
            "Requirement already satisfied: triton==2.1.0 in /usr/local/lib/python3.10/dist-packages (from torch) (2.1.0)\n",
            "Requirement already satisfied: MarkupSafe>=2.0 in /usr/local/lib/python3.10/dist-packages (from jinja2->torch) (2.1.3)\n",
            "Requirement already satisfied: charset-normalizer<4,>=2 in /usr/local/lib/python3.10/dist-packages (from requests->transformers) (3.3.2)\n",
            "Requirement already satisfied: idna<4,>=2.5 in /usr/local/lib/python3.10/dist-packages (from requests->transformers) (3.6)\n",
            "Requirement already satisfied: urllib3<3,>=1.21.1 in /usr/local/lib/python3.10/dist-packages (from requests->transformers) (2.0.7)\n",
            "Requirement already satisfied: certifi>=2017.4.17 in /usr/local/lib/python3.10/dist-packages (from requests->transformers) (2023.11.17)\n",
            "Requirement already satisfied: mpmath>=0.19 in /usr/local/lib/python3.10/dist-packages (from sympy->torch) (1.3.0)\n"
          ]
        }
      ]
    },
    {
      "cell_type": "code",
      "source": [
        "!pip install gdown"
      ],
      "metadata": {
        "colab": {
          "base_uri": "https://localhost:8080/"
        },
        "id": "A2IYIAql9dpF",
        "outputId": "05aa419e-f854-4321-e2af-45e9ec6cc407"
      },
      "execution_count": 5,
      "outputs": [
        {
          "output_type": "stream",
          "name": "stdout",
          "text": [
            "Requirement already satisfied: gdown in /usr/local/lib/python3.10/dist-packages (4.6.6)\n",
            "Requirement already satisfied: filelock in /usr/local/lib/python3.10/dist-packages (from gdown) (3.13.1)\n",
            "Requirement already satisfied: requests[socks] in /usr/local/lib/python3.10/dist-packages (from gdown) (2.31.0)\n",
            "Requirement already satisfied: six in /usr/local/lib/python3.10/dist-packages (from gdown) (1.16.0)\n",
            "Requirement already satisfied: tqdm in /usr/local/lib/python3.10/dist-packages (from gdown) (4.66.1)\n",
            "Requirement already satisfied: beautifulsoup4 in /usr/local/lib/python3.10/dist-packages (from gdown) (4.11.2)\n",
            "Requirement already satisfied: soupsieve>1.2 in /usr/local/lib/python3.10/dist-packages (from beautifulsoup4->gdown) (2.5)\n",
            "Requirement already satisfied: charset-normalizer<4,>=2 in /usr/local/lib/python3.10/dist-packages (from requests[socks]->gdown) (3.3.2)\n",
            "Requirement already satisfied: idna<4,>=2.5 in /usr/local/lib/python3.10/dist-packages (from requests[socks]->gdown) (3.6)\n",
            "Requirement already satisfied: urllib3<3,>=1.21.1 in /usr/local/lib/python3.10/dist-packages (from requests[socks]->gdown) (2.0.7)\n",
            "Requirement already satisfied: certifi>=2017.4.17 in /usr/local/lib/python3.10/dist-packages (from requests[socks]->gdown) (2023.11.17)\n",
            "Requirement already satisfied: PySocks!=1.5.7,>=1.5.6 in /usr/local/lib/python3.10/dist-packages (from requests[socks]->gdown) (1.7.1)\n"
          ]
        }
      ]
    },
    {
      "cell_type": "code",
      "source": [
        "!pip install --upgrade --no-cache-dir gdown"
      ],
      "metadata": {
        "colab": {
          "base_uri": "https://localhost:8080/"
        },
        "id": "qgm3Is259fQ9",
        "outputId": "1a265272-8530-463a-c01e-1dd40834eda2"
      },
      "execution_count": 6,
      "outputs": [
        {
          "output_type": "stream",
          "name": "stdout",
          "text": [
            "Requirement already satisfied: gdown in /usr/local/lib/python3.10/dist-packages (4.6.6)\n",
            "Collecting gdown\n",
            "  Downloading gdown-4.7.1-py3-none-any.whl (15 kB)\n",
            "Requirement already satisfied: filelock in /usr/local/lib/python3.10/dist-packages (from gdown) (3.13.1)\n",
            "Requirement already satisfied: requests[socks] in /usr/local/lib/python3.10/dist-packages (from gdown) (2.31.0)\n",
            "Requirement already satisfied: six in /usr/local/lib/python3.10/dist-packages (from gdown) (1.16.0)\n",
            "Requirement already satisfied: tqdm in /usr/local/lib/python3.10/dist-packages (from gdown) (4.66.1)\n",
            "Requirement already satisfied: beautifulsoup4 in /usr/local/lib/python3.10/dist-packages (from gdown) (4.11.2)\n",
            "Requirement already satisfied: soupsieve>1.2 in /usr/local/lib/python3.10/dist-packages (from beautifulsoup4->gdown) (2.5)\n",
            "Requirement already satisfied: charset-normalizer<4,>=2 in /usr/local/lib/python3.10/dist-packages (from requests[socks]->gdown) (3.3.2)\n",
            "Requirement already satisfied: idna<4,>=2.5 in /usr/local/lib/python3.10/dist-packages (from requests[socks]->gdown) (3.6)\n",
            "Requirement already satisfied: urllib3<3,>=1.21.1 in /usr/local/lib/python3.10/dist-packages (from requests[socks]->gdown) (2.0.7)\n",
            "Requirement already satisfied: certifi>=2017.4.17 in /usr/local/lib/python3.10/dist-packages (from requests[socks]->gdown) (2023.11.17)\n",
            "Requirement already satisfied: PySocks!=1.5.7,>=1.5.6 in /usr/local/lib/python3.10/dist-packages (from requests[socks]->gdown) (1.7.1)\n",
            "Installing collected packages: gdown\n",
            "  Attempting uninstall: gdown\n",
            "    Found existing installation: gdown 4.6.6\n",
            "    Uninstalling gdown-4.6.6:\n",
            "      Successfully uninstalled gdown-4.6.6\n",
            "Successfully installed gdown-4.7.1\n"
          ]
        }
      ]
    },
    {
      "cell_type": "code",
      "source": [
        "import gdown\n",
        "import zipfile\n",
        "\n",
        "# Google 드라이브 공유 링크에서 파일 ID 추출 (공유 가능한 링크를 사용하면 \"uc?id=\" 이후의 부분이 파일 ID입니다)\n",
        "file_id = '1yPrs3PbyvKJ--H7vgl5S5x50Jx1mcCX0'\n",
        "\n",
        "# 다운로드할 파일의 링크 생성\n",
        "file_url = f'https://drive.google.com/uc?id={file_id}'\n",
        "\n",
        "# 파일 다운로드\n",
        "output_path = 'FERPlus_Dataset.zip'\n",
        "gdown.download(file_url, output_path, quiet=False)\n",
        "\n",
        "# 압축 해제\n",
        "with zipfile.ZipFile(output_path, 'r') as zip_ref:\n",
        "    zip_ref.extractall('FERPlus_Dataset')"
      ],
      "metadata": {
        "colab": {
          "base_uri": "https://localhost:8080/"
        },
        "id": "RhB3Etqk9gRM",
        "outputId": "2669bf6d-4428-4deb-c191-07c70528be6f"
      },
      "execution_count": 7,
      "outputs": [
        {
          "output_type": "stream",
          "name": "stderr",
          "text": [
            "Downloading...\n",
            "From (uriginal): https://drive.google.com/uc?id=1yPrs3PbyvKJ--H7vgl5S5x50Jx1mcCX0\n",
            "From (redirected): https://drive.google.com/uc?id=1yPrs3PbyvKJ--H7vgl5S5x50Jx1mcCX0&confirm=t&uuid=b632f09b-d330-4c98-91ec-d09e8a230e6c\n",
            "To: /content/FERPlus_Dataset.zip\n",
            "100%|██████████| 62.9M/62.9M [00:00<00:00, 72.2MB/s]\n"
          ]
        }
      ]
    },
    {
      "cell_type": "code",
      "source": [
        "# Data_loader.py\n",
        "\n",
        "import os\n",
        "import torch\n",
        "from torchvision import datasets, transforms\n",
        "from PIL import Image\n",
        "import numpy as np\n",
        "import cv2\n",
        "\n",
        "class FERPlusDataset(torch.utils.data.Dataset):\n",
        "    def __init__(self, root_dir, train=True, transform=None):\n",
        "        self.root_dir = root_dir\n",
        "        self.transform = transform\n",
        "        self.train = train\n",
        "\n",
        "        if self.train:\n",
        "            self.data_dir = os.path.join(self.root_dir, 'train')\n",
        "        else:\n",
        "            self.data_dir = os.path.join(self.root_dir, 'test')\n",
        "\n",
        "        self.classes = sorted(os.listdir(self.data_dir))\n",
        "        self.class_to_idx = {cls_name: idx for idx, cls_name in enumerate(self.classes)}\n",
        "\n",
        "        self.samples = []\n",
        "        for cls_name in self.classes:\n",
        "            cls_dir = os.path.join(self.data_dir, cls_name)\n",
        "            for img_name in os.listdir(cls_dir):\n",
        "                img_path = os.path.join(cls_dir, img_name)\n",
        "                self.samples.append((img_path, self.class_to_idx[cls_name]))\n",
        "\n",
        "\n",
        "    def __len__(self):\n",
        "        return len(self.samples)\n",
        "\n",
        "    def __getitem__(self, idx):\n",
        "        img_path, target = self.samples[idx]\n",
        "        img = Image.open(img_path).convert('RGB')  # 허깅 페이스에서 제공하는 deit 라이브러리가 컬러 이미지만을 취급하기 때문에 컬러로 변경\n",
        "\n",
        "        if self.transform:\n",
        "            img = self.transform(img)\n",
        "\n",
        "        return img, target\n",
        "\n"
      ],
      "metadata": {
        "id": "VJQ9UETt9sq9"
      },
      "execution_count": 8,
      "outputs": []
    },
    {
      "cell_type": "code",
      "source": [
        "# Data_preprosessing.py\n",
        "\n",
        "import numpy as np\n",
        "import cv2\n",
        "import os\n",
        "import glob\n",
        "\n",
        "# cv2 모듈로 이미지 읽는 함수 정의\n",
        "class compute_mean_and_std():\n",
        "    def __init__(self, root_dir):\n",
        "        self.root_dir = root_dir\n",
        "        self.image_paths = glob.glob(os.path.join(root_dir, '**/*.*'), recursive=True)\n",
        "\n",
        "    def read_img(self, file_path):\n",
        "        img_arr = cv2.imread(file_path, cv2.IMREAD_COLOR)\n",
        "        return img_arr\n",
        "\n",
        "    def get_mean_and_std(self):\n",
        "        # global mean 구하기\n",
        "        global_mean = 0\n",
        "        global_var = 0\n",
        "\n",
        "        for img in self.image_paths:\n",
        "            img_result = self.read_img(img) / 255\n",
        "            global_mean += img_result.reshape(-1, 3).mean(axis=0)\n",
        "\n",
        "        global_mean /= len(self.image_paths)\n",
        "\n",
        "        # global std 구하기\n",
        "        for img in self.image_paths:\n",
        "            img_result = self.read_img(img) / 255\n",
        "            global_var += ((img_result.reshape(-1, 3) - global_mean) ** 2).mean(axis=0)\n",
        "\n",
        "        global_var /= len(self.image_paths)\n",
        "        global_std = np.sqrt(global_var)\n",
        "\n",
        "        print(global_mean, global_std)\n",
        "\n",
        "        return global_mean, global_std"
      ],
      "metadata": {
        "id": "mRAAKeSs9uFl"
      },
      "execution_count": 9,
      "outputs": []
    },
    {
      "cell_type": "code",
      "source": [
        "#fine_tuning.py\n",
        "\n",
        "from torch import torch\n",
        "\n",
        "\n",
        "def fine_tuning(model, num_classes, num_epochs, train_data_loader):\n",
        "    model.classifier = torch.nn.Linear(in_features=model.classifier.in_features, out_features=num_classes)\n",
        "\n",
        "    learning_rate = 0.001\n",
        "\n",
        "\n",
        "    criterion = torch.nn.CrossEntropyLoss()\n",
        "    optimizer = torch.optim.Adam(model.parameters(), lr=learning_rate)\n",
        "    i=1\n",
        "\n",
        "    for epoch in range(num_epochs):\n",
        "        for inputs, labels in train_data_loader:\n",
        "            optimizer.zero_grad()\n",
        "            outputs = model(inputs).logits\n",
        "            loss = criterion(outputs, labels)\n",
        "            loss.backward()\n",
        "            optimizer.step()\n",
        "            i = i+1\n",
        "            if(i%225==0):\n",
        "              print(f'This is {i/225}th iteration for fine-tuning.\\n')\n",
        "\n",
        "\n",
        "\n",
        "\n",
        "    # 검증 데이터에 모델 적용 및 성능 평가\n",
        "    # (정확도, F1 점수 등)\n",
        "    #model.eval()\n",
        "    #with torch.no_grad():\n",
        "        #torch.save(model.state_dict(), 'fine_tuned_model.pth')\n"
      ],
      "metadata": {
        "id": "x9UT_eW09vC1"
      },
      "execution_count": 10,
      "outputs": []
    },
    {
      "cell_type": "code",
      "source": [
        "# model_loader.py\n",
        "\n",
        "from transformers import DeiTForImageClassification\n",
        "\n",
        "def load_model(model_name):\n",
        "    model = DeiTForImageClassification.from_pretrained(model_name)\n",
        "\n",
        "\n",
        "    return model"
      ],
      "metadata": {
        "id": "QA6XiE_h9v_7"
      },
      "execution_count": 11,
      "outputs": []
    },
    {
      "cell_type": "code",
      "source": [
        "#test_model.py\n",
        "\n",
        "from torch import torch\n",
        "from sklearn.metrics import accuracy_score\n",
        "\n",
        "def test_model(model, test_data_loader):\n",
        "    model.eval()\n",
        "    all_preds = []\n",
        "    all_labels = []\n",
        "\n",
        "    with torch.no_grad():\n",
        "        for inputs, labels in test_data_loader:\n",
        "            outputs = model(inputs).logits  # ImageClassifierOutput에서 logits 텐서 추출\n",
        "            _, preds = torch.max(outputs, 1)\n",
        "            all_preds.extend(preds.tolist())\n",
        "            all_labels.extend(labels.tolist())\n",
        "\n",
        "    print('Test Finish!!')\n",
        "    accuracy = accuracy_score(all_labels, all_preds)\n",
        "    return accuracy\n"
      ],
      "metadata": {
        "id": "-U4frB3U9xEQ"
      },
      "execution_count": 12,
      "outputs": []
    },
    {
      "cell_type": "code",
      "source": [
        "# main.py\n",
        "from torch import torch\n",
        "\n",
        "\n",
        "root_dir = '/content/FERPlus_Dataset'\n",
        "batch_size = 128\n",
        "model_name = \"facebook/deit-base-distilled-patch16-224\"\n",
        "\n",
        "# 이미지 크기 조정 변환\n",
        "desired_size = 224\n",
        "resize_transform= transforms.Resize((desired_size,desired_size))\n",
        "\n",
        "desired_padding = 88\n",
        "# 패딩을 추가하는 과정\n",
        "padding_transform = transforms.Compose([\n",
        "    #transforms.ToPILImage(), # Tensor를 PIL 이미지로 변환\n",
        "    transforms.Pad(padding=desired_padding, fill=0, padding_mode= 'constant'), # desired_padding에 맞게 패딩 추가\n",
        "])\n",
        "\n",
        "# 데이터 정규화 즉, 평균과 표준편차 계산해서 반환하기\n",
        "mean_std_calculator = compute_mean_and_std(root_dir)\n",
        "mean, std = mean_std_calculator.get_mean_and_std()\n",
        "\n",
        "# 데이터 전처리 설정\n",
        "data_transform = transforms.Compose([\n",
        "    padding_transform, # padding\n",
        "    resize_transform,  # resizing\n",
        "    transforms.Grayscale(num_output_channels=3),  # 이미지를 흑백에서 RGB로 변환\n",
        "    transforms.ToTensor(),\n",
        "    transforms.Normalize(mean=mean, std=std),\n",
        "])\n",
        "\n",
        "# FERPlus 데이터 셋 로드\n",
        "train_dataset = FERPlusDataset(root_dir, train=True, transform=data_transform)\n",
        "test_dataset = FERPlusDataset(root_dir, train=False, transform=data_transform)\n",
        "\n",
        "# 데이터 로더 설정 (배치 크기, 셔플 등을 설정하세요)\n",
        "train_loader = torch.utils.data.DataLoader(train_dataset, batch_size=batch_size, shuffle=True)\n",
        "test_loader = torch.utils.data.DataLoader(test_dataset, batch_size=batch_size)\n",
        "\n",
        "print(f\"class number: {len(train_dataset.classes)}\")\n",
        "print(f\"data number: {len(train_dataset)}\")\n",
        "print(f\"batch number: {len(train_loader)}\")\n",
        "print(f\"test data number : {len(test_dataset)}\")\n",
        "print(f\"test batch number : {len(test_loader)}\")\n",
        "\n",
        "\n",
        "# 모델 로드\n",
        "model = load_model(model_name)\n",
        "\n",
        "# 저장된 모델 가중치 불러오기\n",
        "model_state_dict = torch.load('/content/drive/MyDrive/model_weights_after_new_14epochs.pth')\n",
        "\n",
        "# 모델의 classifier 레이어를 변경하여 클래스 수 조정\n",
        "num_classes = len(train_dataset.classes)\n",
        "model.classifier = torch.nn.Linear(in_features=model.classifier.in_features, out_features=num_classes)\n",
        "\n",
        "# 추가 에폭 학습\n",
        "num_epochs_additional = 1\n",
        "fine_tuning(model, num_classes, num_epochs_additional, train_loader)\n",
        "\n",
        "# 저장된 모델 가중치 저장\n",
        "torch.save(model.state_dict(), '/content/drive/MyDrive/model_weights_after_new_15epochs.pth')\n",
        "\n",
        "# 테스트\n",
        "accuracy = test_model(model, test_loader)\n",
        "print(f\"Test Accuracy after 15 epochs: {accuracy}\")\n",
        "\n",
        "# 추가 에폭 학습\n",
        "num_epochs_additional = 1\n",
        "fine_tuning(model, num_classes, num_epochs_additional, train_loader)\n",
        "\n",
        "# 저장된 모델 가중치 저장\n",
        "torch.save(model.state_dict(), '/content/drive/MyDrive/model_weights_after_new_16epochs.pth')\n",
        "\n",
        "# 테스트\n",
        "accuracy = test_model(model, test_loader)\n",
        "print(f\"Test Accuracy after 16 epochs: {accuracy}\")\n",
        "\n",
        "# 추가 에폭 학습\n",
        "num_epochs_additional = 1\n",
        "fine_tuning(model, num_classes, num_epochs_additional, train_loader)\n",
        "\n",
        "# 저장된 모델 가중치 저장\n",
        "torch.save(model.state_dict(), '/content/drive/MyDrive/model_weights_after_new_17epochs.pth')\n",
        "\n",
        "# 테스트\n",
        "accuracy = test_model(model, test_loader)\n",
        "print(f\"Test Accuracy after 17 epochs: {accuracy}\")\n",
        "\n",
        "# 추가 에폭 학습\n",
        "num_epochs_additional = 1\n",
        "fine_tuning(model, num_classes, num_epochs_additional, train_loader)\n",
        "\n",
        "# 저장된 모델 가중치 저장\n",
        "torch.save(model.state_dict(), '/content/drive/MyDrive/model_weights_after_new_18epochs.pth')\n",
        "\n",
        "# 테스트\n",
        "accuracy = test_model(model, test_loader)\n",
        "print(f\"Test Accuracy after 18 epochs: {accuracy}\")"
      ],
      "metadata": {
        "colab": {
          "base_uri": "https://localhost:8080/",
          "height": 539,
          "referenced_widgets": [
            "9a1f66da6d134940ab28853d535b7498",
            "7bd703aada0c4bd1ae1ae09f6bac3ff1",
            "9bbd0ea1a3f54c8b97be77ad62ff8578",
            "07ba2eebc897456083e1fa8c3e4b9116",
            "dd58533f5e2d4c2aa726fd168abddf95",
            "74fb9fb12eb44680a19d3969f993569b",
            "d6c0cd48b64c4321b2d8c661a6e63e70",
            "2898ff10f22e4ffeb1dfdf423827d1e8",
            "b1b4cf068ad34e4c84d378083cbbdd64",
            "fd809e30daeb4f6a8760dc842237f524",
            "163f8e0d773a4142aef531950d0427aa",
            "1ed0f9ef9cec4905ba8294015d80df73",
            "4d52d13e902f4bd1954950df4d1704ad",
            "2c90c26816c04babb274c6ca45728720",
            "6e6e273687f841b69a254881e8b7f8d2",
            "a5e40f4c06774dafbe3154216795677c",
            "52b81d67135c43d89cf564b61dd35b2e",
            "36a92eb50bb842f8bd7a6de1d9823716",
            "41d1ffe64d344f6db4cd9d072bb72538",
            "9fc8e595e5804ea9add2e4a59936434d",
            "730a86d2f511476d83e6c9dadee25990",
            "102c63ea171d4564b52bfafb7fc85f11"
          ]
        },
        "id": "bxcj2bBW9x7r",
        "outputId": "0bf561ca-6d85-460f-844f-895cc917ed0b"
      },
      "execution_count": 13,
      "outputs": [
        {
          "output_type": "stream",
          "name": "stdout",
          "text": [
            "[0.50739176 0.50739176 0.50739176] [0.25519799 0.25519799 0.25519799]\n",
            "class number: 7\n",
            "data number: 28709\n",
            "batch number: 225\n",
            "test data number : 7178\n",
            "test batch number : 57\n"
          ]
        },
        {
          "output_type": "display_data",
          "data": {
            "text/plain": [
              "config.json:   0%|          | 0.00/69.6k [00:00<?, ?B/s]"
            ],
            "application/vnd.jupyter.widget-view+json": {
              "version_major": 2,
              "version_minor": 0,
              "model_id": "9a1f66da6d134940ab28853d535b7498"
            }
          },
          "metadata": {}
        },
        {
          "output_type": "display_data",
          "data": {
            "text/plain": [
              "pytorch_model.bin:   0%|          | 0.00/349M [00:00<?, ?B/s]"
            ],
            "application/vnd.jupyter.widget-view+json": {
              "version_major": 2,
              "version_minor": 0,
              "model_id": "1ed0f9ef9cec4905ba8294015d80df73"
            }
          },
          "metadata": {}
        },
        {
          "output_type": "stream",
          "name": "stderr",
          "text": [
            "Some weights of DeiTForImageClassification were not initialized from the model checkpoint at facebook/deit-base-distilled-patch16-224 and are newly initialized: ['classifier.weight', 'classifier.bias']\n",
            "You should probably TRAIN this model on a down-stream task to be able to use it for predictions and inference.\n"
          ]
        },
        {
          "output_type": "stream",
          "name": "stdout",
          "text": [
            "This is 1.0th iteration for fine-tuning.\n",
            "\n",
            "Test Finish!!\n",
            "Test Accuracy after 15 epochs: 0.3269713011981053\n",
            "This is 1.0th iteration for fine-tuning.\n",
            "\n",
            "Test Finish!!\n",
            "Test Accuracy after 16 epochs: 0.3960713290610198\n",
            "This is 1.0th iteration for fine-tuning.\n",
            "\n",
            "Test Finish!!\n",
            "Test Accuracy after 17 epochs: 0.41529674003900807\n",
            "This is 1.0th iteration for fine-tuning.\n",
            "\n",
            "Test Finish!!\n",
            "Test Accuracy after 18 epochs: 0.43939816104764556\n"
          ]
        }
      ]
    },
    {
      "cell_type": "code",
      "source": [],
      "metadata": {
        "id": "RmralUCA-Uml"
      },
      "execution_count": null,
      "outputs": []
    }
  ]
}